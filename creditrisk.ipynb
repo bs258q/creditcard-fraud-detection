import pandas as pd
import numpy as np
import seaborn as sns
import matplotlib.pyplot as plt
from sklearn.model_selection import train_test_split
from sklearn.preprocessing import StandardScaler
from xgboost import XGBClassifier
from sklearn.metrics import classification_report, confusion_matrix, roc_auc_score, roc_curve

# Step 1: Load dataset
data_df = pd.read_csv("creditcard.csv")

# Step 2: Data Exploration
print("Missing Values:")
print(data_df.isnull().sum())

print("Class Distribution:")
print(data_df["Class"].value_counts(normalize=True) * 100)

sns.countplot(x="Class", data=data_df)
plt.title("Class Distribution (0 = Not Fraud, 1 = Fraud)")
plt.show()

# Step 3: Data Visualization
plt.figure(figsize=(10, 5))
sns.histplot(data_df['Amount'], bins=50, kde=True)
plt.title("Transaction Amount Distribution")
plt.xlabel("Amount")
plt.ylabel("Frequency")
plt.show()

plt.figure(figsize=(12, 8))
sns.heatmap(data_df.corr(), cmap='coolwarm', annot=False)
plt.title("Feature Correlation Heatmap")
plt.show()

plt.figure(figsize=(10, 5))
sns.boxplot(x='Class', y='Amount', data=data_df)
plt.title("Transaction Amount by Class")
plt.show()

# Step 4: Data Preprocessing
scaler = StandardScaler()
data_df['normAmount'] = scaler.fit_transform(data_df['Amount'].values.reshape(-1, 1))
data_df = data_df.drop(['Time', 'Amount'], axis=1)

# Step 5: Splitting dataset into training and test sets
X = data_df.drop("Class", axis=1)
y = data_df["Class"]
X_train, X_test, y_train, y_test = train_test_split(X, y, test_size=0.2, stratify=y, random_state=42)

# Step 6: Train XGBoost model
xgb = XGBClassifier(use_label_encoder=False, eval_metric='logloss')
xgb.fit(X_train, y_train)

# Step 7: Model Predictions
y_pred = xgb.predict(X_test)
y_pred_proba = xgb.predict_proba(X_test)[:, 1]

# Step 8: Model Evaluation
print("Classification Report:")
print(classification_report(y_test, y_pred))

cm = confusion_matrix(y_test, y_pred)
sns.heatmap(cm, annot=True, fmt='d', cmap='Blues')
plt.xlabel("Predicted")
plt.ylabel("Actual")
plt.title("Confusion Matrix")
plt.show()

# Step 9: AUC-ROC Curve
fpr, tpr, _ = roc_curve(y_test, y_pred_proba)
roc_auc = roc_auc_score(y_test, y_pred_proba)
plt.plot(fpr, tpr, label=f"AUC = {roc_auc:.2f}")
plt.plot([0, 1], [0, 1], linestyle='--', color='gray')
plt.xlabel("False Positive Rate")
plt.ylabel("True Positive Rate")
plt.title("ROC Curve")
plt.legend()
plt.show()
